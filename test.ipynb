{
 "cells": [
  {
   "cell_type": "raw",
   "metadata": {},
   "source": [
    "e^x=\\sum_{i=0}^\\infty \\frac{1}{i!}x^i"
   ]
  },
  {
   "cell_type": "code",
   "execution_count": 2,
   "metadata": {
    "collapsed": false
   },
   "outputs": [
    {
     "ename": "SyntaxError",
     "evalue": "invalid syntax (<ipython-input-2-c2b6bdac3a5c>, line 1)",
     "output_type": "error",
     "traceback": [
      "\u001b[0;36m  File \u001b[0;32m\"<ipython-input-2-c2b6bdac3a5c>\"\u001b[0;36m, line \u001b[0;32m1\u001b[0m\n\u001b[0;31m    $e^x=\\sum_{i=0}^\\infty \\frac{1}{i!}x^i$\u001b[0m\n\u001b[0m    ^\u001b[0m\n\u001b[0;31mSyntaxError\u001b[0m\u001b[0;31m:\u001b[0m invalid syntax\n"
     ]
    }
   ],
   "source": [
    "$e^x=\\sum_{i=0}^\\infty \\frac{1}{i!}x^i$"
   ]
  },
  {
   "cell_type": "code",
   "execution_count": 6,
   "metadata": {
    "collapsed": false
   },
   "outputs": [
    {
     "data": {
      "text/latex": [
       "\\begin{equation}\n",
       "\\sqrt{t}\n",
       "\\end{equation}"
      ],
      "text/plain": [
       "<IPython.core.display.Latex object>"
      ]
     },
     "metadata": {},
     "output_type": "display_data"
    }
   ],
   "source": [
    "%%latex\n",
    "\\begin{equation}\n",
    "\\sqrt{t}\n",
    "\\end{equation}"
   ]
  },
  {
   "cell_type": "code",
   "execution_count": 7,
   "metadata": {
    "collapsed": true
   },
   "outputs": [],
   "source": [
    "%matplotlib inline\n"
   ]
  },
  {
   "cell_type": "code",
   "execution_count": 8,
   "metadata": {
    "collapsed": true
   },
   "outputs": [],
   "source": [
    "import matplotlib.pylab as plt\n"
   ]
  },
  {
   "cell_type": "code",
   "execution_count": 9,
   "metadata": {
    "collapsed": true
   },
   "outputs": [],
   "source": [
    "import numpy as np"
   ]
  },
  {
   "cell_type": "code",
   "execution_count": 10,
   "metadata": {
    "collapsed": false
   },
   "outputs": [
    {
     "data": {
      "text/plain": [
       "(array([ 11.,  13.,   7.,  11.,   7.,  11.,  12.,   9.,   6.,  12.,  11.,\n",
       "          5.,  11.,  11.,  15.,  10.,  11.,   4.,   7.,   5.,  13.,   5.,\n",
       "          9.,  16.,  12.,  19.,  15.,  11.,   7.,   5.,   4.,  10.,  15.,\n",
       "         12.,   5.,  16.,   7.,   8.,  13.,   7.,   8.,   7.,   7.,   9.,\n",
       "         11.,   3.,  10.,  10.,  10.,   7.,  11.,   9.,  13.,  11.,  13.,\n",
       "         12.,   8.,  11.,   9.,   6.,  10.,   7.,  11.,  10.,  10.,   8.,\n",
       "          8.,   9.,  12.,   9.,  14.,  12.,   8.,  16.,  12.,  12.,   8.,\n",
       "         13.,   8.,  21.,  14.,  11.,   7.,   8.,   5.,   3.,   8.,   9.,\n",
       "         12.,  15.,  15.,   8.,  10.,  13.,  14.,  12.,   9.,   9.,   8.,\n",
       "          9.]), array([  6.65010789e-04,   1.06519441e-02,   2.06388775e-02,\n",
       "          3.06258109e-02,   4.06127442e-02,   5.05996776e-02,\n",
       "          6.05866109e-02,   7.05735443e-02,   8.05604776e-02,\n",
       "          9.05474110e-02,   1.00534344e-01,   1.10521278e-01,\n",
       "          1.20508211e-01,   1.30495144e-01,   1.40482078e-01,\n",
       "          1.50469011e-01,   1.60455944e-01,   1.70442878e-01,\n",
       "          1.80429811e-01,   1.90416745e-01,   2.00403678e-01,\n",
       "          2.10390611e-01,   2.20377545e-01,   2.30364478e-01,\n",
       "          2.40351411e-01,   2.50338345e-01,   2.60325278e-01,\n",
       "          2.70312211e-01,   2.80299145e-01,   2.90286078e-01,\n",
       "          3.00273011e-01,   3.10259945e-01,   3.20246878e-01,\n",
       "          3.30233812e-01,   3.40220745e-01,   3.50207678e-01,\n",
       "          3.60194612e-01,   3.70181545e-01,   3.80168478e-01,\n",
       "          3.90155412e-01,   4.00142345e-01,   4.10129278e-01,\n",
       "          4.20116212e-01,   4.30103145e-01,   4.40090078e-01,\n",
       "          4.50077012e-01,   4.60063945e-01,   4.70050879e-01,\n",
       "          4.80037812e-01,   4.90024745e-01,   5.00011679e-01,\n",
       "          5.09998612e-01,   5.19985545e-01,   5.29972479e-01,\n",
       "          5.39959412e-01,   5.49946345e-01,   5.59933279e-01,\n",
       "          5.69920212e-01,   5.79907145e-01,   5.89894079e-01,\n",
       "          5.99881012e-01,   6.09867946e-01,   6.19854879e-01,\n",
       "          6.29841812e-01,   6.39828746e-01,   6.49815679e-01,\n",
       "          6.59802612e-01,   6.69789546e-01,   6.79776479e-01,\n",
       "          6.89763412e-01,   6.99750346e-01,   7.09737279e-01,\n",
       "          7.19724212e-01,   7.29711146e-01,   7.39698079e-01,\n",
       "          7.49685013e-01,   7.59671946e-01,   7.69658879e-01,\n",
       "          7.79645813e-01,   7.89632746e-01,   7.99619679e-01,\n",
       "          8.09606613e-01,   8.19593546e-01,   8.29580479e-01,\n",
       "          8.39567413e-01,   8.49554346e-01,   8.59541279e-01,\n",
       "          8.69528213e-01,   8.79515146e-01,   8.89502079e-01,\n",
       "          8.99489013e-01,   9.09475946e-01,   9.19462880e-01,\n",
       "          9.29449813e-01,   9.39436746e-01,   9.49423680e-01,\n",
       "          9.59410613e-01,   9.69397546e-01,   9.79384480e-01,\n",
       "          9.89371413e-01,   9.99358346e-01]), <a list of 100 Patch objects>)"
      ]
     },
     "execution_count": 10,
     "metadata": {},
     "output_type": "execute_result"
    },
    {
     "data": {
      "image/png": "[encoded data removed]",
      "text/plain": [
       "<matplotlib.figure.Figure at 0x104f90450>"
      ]
     },
     "metadata": {},
     "output_type": "display_data"
    }
   ],
   "source": [
    "plt.hist(np.random.rand(1000),bins=100)"
   ]
  },
  {
   "cell_type": "code",
   "execution_count": 11,
   "metadata": {
    "collapsed": false
   },
   "outputs": [
    {
     "name": "stderr",
     "output_type": "stream",
     "text": [
      "UsageError: Missing filename."
     ]
    }
   ],
   "source": [
    "%save"
   ]
  },
  {
   "cell_type": "code",
   "execution_count": null,
   "metadata": {
    "collapsed": true
   },
   "outputs": [],
   "source": []
  }
 ],
 "metadata": {
  "kernelspec": {
   "display_name": "Python 2",
   "language": "python",
   "name": "python2"
  },
  "language_info": {
   "codemirror_mode": {
    "name": "ipython",
    "version": 2
   },
   "file_extension": ".py",
   "mimetype": "text/x-python",
   "name": "python",
   "nbconvert_exporter": "python",
   "pygments_lexer": "ipython2",
   "version": "2.7.10"
  }
 },
 "nbformat": 4,
 "nbformat_minor": 0
}
